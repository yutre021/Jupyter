{
 "cells": [
  {
   "cell_type": "markdown",
   "metadata": {},
   "source": [
    "## Introduction to the IF statement"
   ]
  },
  {
   "cell_type": "markdown",
   "metadata": {},
   "source": [
    "*Suggested Answers follow (usually there are multiple ways to solve a problem in Python).*"
   ]
  },
  {
   "cell_type": "markdown",
   "metadata": {},
   "source": [
    "Create a two-line code that prints \"The condition has been satisfied\" if 5 is greater than 2."
   ]
  },
  {
   "cell_type": "code",
   "execution_count": 1,
   "metadata": {},
   "outputs": [
    {
     "name": "stdout",
     "output_type": "stream",
     "text": [
      "The condition has been satisfied\n"
     ]
    }
   ],
   "source": [
    "if 5 > 2:\n",
    "    print (\"The condition has been satisfied\")"
   ]
  },
  {
   "cell_type": "markdown",
   "metadata": {},
   "source": [
    "Assign 10 to the variable x and 25 to the variable y. In the same cell, create 2 conditional statements. Let the first one print \"Both conditions are correct\" if x is greater then 3 and y is greater than 13. Let the second one print \"At least one of the conditions is false\" if x is less than or equal to 3 or y is less than or equal to 13. \n",
    "Change the values assigned to x and y and re-run the cell to verify your code still works."
   ]
  },
  {
   "cell_type": "code",
   "execution_count": 1,
   "metadata": {},
   "outputs": [
    {
     "name": "stdout",
     "output_type": "stream",
     "text": [
      "Both conditions are correct\n"
     ]
    }
   ],
   "source": [
    "x = 10\n",
    "y = 25\n",
    "\n",
    "if x > 3 and y > 13:\n",
    "    print ('Both conditions are correct')\n",
    "if x <= 3 or y <= 13:\n",
    "    print ('At least one of the conditions is false')"
   ]
  },
  {
   "cell_type": "markdown",
   "metadata": {},
   "source": [
    "## Add an ELSE Statement"
   ]
  },
  {
   "cell_type": "markdown",
   "metadata": {},
   "source": [
    "*Suggested Answers follow (usually there are multiple ways to solve a problem in Python).*"
   ]
  },
  {
   "cell_type": "markdown",
   "metadata": {},
   "source": [
    "Let x represent the number of orders received during a certain day. \n",
    "Assign 102 to x. Create a program that prints \"A busy day\" if x is greater than 100, and \"A calm day\" otherwise. Change x to 97 to verify your code works properly."
   ]
  },
  {
   "cell_type": "code",
   "execution_count": 1,
   "metadata": {},
   "outputs": [
    {
     "name": "stdout",
     "output_type": "stream",
     "text": [
      "A busy day\n"
     ]
    }
   ],
   "source": [
    "x = 102\n",
    "\n",
    "if x > 100:\n",
    "    print (\"A busy day\")\n",
    "else:\n",
    "    print (\"A calm day\")"
   ]
  },
  {
   "cell_type": "markdown",
   "metadata": {},
   "source": [
    "## Else if, for Brief - ELIF"
   ]
  },
  {
   "cell_type": "markdown",
   "metadata": {},
   "source": [
    "*Suggested Answers follow (usually there are multiple ways to solve a problem in Python).*"
   ]
  },
  {
   "cell_type": "markdown",
   "metadata": {},
   "source": [
    "Assign 200 to x.\n",
    "Create the following piece of code:\n",
    "If x > 200, print out \"Big\"; \n",
    "If x > 100 and x <= 200, print out \"Average\"; \n",
    "and If x <= 100, print out \"Small\".\n",
    "Use the If, Elif, and Else keywords in your code.\n",
    "\n",
    "Change the initial value of x to see how your output will vary."
   ]
  },
  {
   "cell_type": "code",
   "execution_count": 1,
   "metadata": {
    "scrolled": true
   },
   "outputs": [
    {
     "name": "stdout",
     "output_type": "stream",
     "text": [
      "Average\n"
     ]
    }
   ],
   "source": [
    "x = 200\n",
    "\n",
    "if x > 200: \n",
    "    print (\"Big\")\n",
    "elif x > 100 and x <= 200:\n",
    "    print (\"Average\")\n",
    "else:\n",
    "    print (\"Small\")    "
   ]
  },
  {
   "cell_type": "markdown",
   "metadata": {},
   "source": [
    "Keep the first two conditions of the previous code. Add a new ELIF statement, so that, eventually, the program prints \"Small\" if x >= 0 and x <= 100, and \"Negative\" if x < 0. \n",
    "Let x carry the value of 50 and then of -50 to check if your code is correct."
   ]
  },
  {
   "cell_type": "code",
   "execution_count": 2,
   "metadata": {},
   "outputs": [
    {
     "name": "stdout",
     "output_type": "stream",
     "text": [
      "Average\n"
     ]
    }
   ],
   "source": [
    "x = 200\n",
    "\n",
    "if x > 200: \n",
    "    print (\"Big\")\n",
    "elif x > 100 and x <= 200:\n",
    "    print (\"Average\")\n",
    "elif x >= 0 and x <= 100:\n",
    "    print (\"Small\")  \n",
    "else:\n",
    "    print (\"Negative\")"
   ]
  }
 ],
 "metadata": {
  "anaconda-cloud": {},
  "kernelspec": {
   "display_name": "Python 3",
   "language": "python",
   "name": "python3"
  },
  "language_info": {
   "codemirror_mode": {
    "name": "ipython",
    "version": 3
   },
   "file_extension": ".py",
   "mimetype": "text/x-python",
   "name": "python",
   "nbconvert_exporter": "python",
   "pygments_lexer": "ipython3",
   "version": "3.7.6"
  }
 },
 "nbformat": 4,
 "nbformat_minor": 1
}
